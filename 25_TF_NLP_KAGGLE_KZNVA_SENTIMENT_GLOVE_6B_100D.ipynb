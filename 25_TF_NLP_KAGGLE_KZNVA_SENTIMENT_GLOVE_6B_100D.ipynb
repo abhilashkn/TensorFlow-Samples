{
 "cells": [
  {
   "cell_type": "code",
   "execution_count": 1,
   "metadata": {
    "collapsed": true
   },
   "outputs": [],
   "source": [
    "import csv\n",
    "import tensorflow as tf\n",
    "import numpy as np\n",
    "\n",
    "from tensorflow.keras.preprocessing.text import Tokenizer\n",
    "from tensorflow.keras.preprocessing.sequence import pad_sequences"
   ]
  },
  {
   "cell_type": "code",
   "execution_count": 9,
   "outputs": [],
   "source": [
    "embedding_dim = 100\n",
    "max_length = 16\n",
    "trunc_type = 'post'\n",
    "pad_type = 'post'\n",
    "oov_tok = '<OOV>'\n",
    "training_size = 160000\n",
    "test_percentage =.1\n",
    "file_path = 'C:/VIN_PYCHARM/ONE/Data/training_cleaned.csv'\n",
    "corpus = []"
   ],
   "metadata": {
    "collapsed": false,
    "pycharm": {
     "name": "#%%\n"
    }
   }
  },
  {
   "cell_type": "code",
   "execution_count": 10,
   "outputs": [],
   "source": [
    "# -- Following is the sample data of csv file --\n",
    "#\"0\",\"2051179803\",\"Fri Jun 05 20:59:11 PDT 2009\",\"NO_QUERY\",\"Thenight11\",\"Angela hates my goatee and beer \"\n",
    "#\"4\",\"1998331163\",\"Mon Jun 01 18:22:25 PDT 2009\",\"NO_QUERY\",\"RobCometX\",\"@MarieLuv Glad to hear it! \"\n",
    "\n",
    "\n",
    "num_sentences = 0\n",
    "with open(file_path, 'r', encoding='utf8') as csv_file:\n",
    "    reader = csv.reader(csv_file, delimiter = ',')\n",
    "    for row in reader:\n",
    "        list_item = []\n",
    "        list_item.append(row[5])\n",
    "        row_label = row [0]\n",
    "        if row_label == '0':\n",
    "            list_item.append(0)\n",
    "        else:\n",
    "            list_item.append(1)\n",
    "        num_sentences = num_sentences +1\n",
    "        corpus.append(list_item)"
   ],
   "metadata": {
    "collapsed": false,
    "pycharm": {
     "name": "#%%\n"
    }
   }
  },
  {
   "cell_type": "code",
   "execution_count": 11,
   "outputs": [
    {
     "name": "stdout",
     "output_type": "stream",
     "text": [
      "1600000\n",
      "1600000\n",
      "[\"is upset that he can't update his Facebook by texting it... and might cry as a result  School today also. Blah!\", 0]\n"
     ]
    }
   ],
   "source": [
    "print(num_sentences)\n",
    "print(len(corpus))\n",
    "print(corpus[1])\n",
    "\n",
    "training_size = num_sentences"
   ],
   "metadata": {
    "collapsed": false,
    "pycharm": {
     "name": "#%%\n"
    }
   }
  },
  {
   "cell_type": "code",
   "execution_count": 15,
   "outputs": [],
   "source": [
    "import random\n",
    "\n",
    "sentences   = []\n",
    "label       = []\n",
    "\n",
    "random.shuffle(corpus)\n",
    "\n",
    "for index in range (training_size):\n",
    "    sentences.append(corpus[index][0])\n",
    "    label.append(corpus[index][1])\n",
    "\n",
    "tokenizer = Tokenizer()\n",
    "tokenizer.fit_on_texts(sentences)\n",
    "word_index = tokenizer.word_index\n",
    "vocab_size = len(word_index)\n",
    "\n",
    "sequences = tokenizer.texts_to_sequences(sentences)\n",
    "padded_sequences = pad_sequences(sequences, maxlen=max_length,padding=pad_type, truncating=trunc_type)\n",
    "\n",
    "split = int(test_percentage*training_size)\n",
    "\n",
    "test_sequence   = padded_sequences[0:split]\n",
    "test_labels      = label[0:split]\n",
    "\n",
    "training_sequence   = padded_sequences[split:training_size]\n",
    "training_labels      = label[split:training_size]\n"
   ],
   "metadata": {
    "collapsed": false,
    "pycharm": {
     "name": "#%%\n"
    }
   }
  },
  {
   "cell_type": "code",
   "execution_count": 16,
   "outputs": [
    {
     "name": "stdout",
     "output_type": "stream",
     "text": [
      "138909\n",
      "1\n"
     ]
    }
   ],
   "source": [
    "print(vocab_size)\n",
    "print(word_index['i'])"
   ],
   "metadata": {
    "collapsed": false,
    "pycharm": {
     "name": "#%%\n"
    }
   }
  },
  {
   "cell_type": "code",
   "execution_count": 19,
   "outputs": [
    {
     "name": "stdout",
     "output_type": "stream",
     "text": [
      "138910\n"
     ]
    }
   ],
   "source": [
    "embeddings_index = {}\n",
    "\n",
    "file_path_two = 'C:/VIN_PYCHARM/ONE/Data/glove.6B.100d.txt'\n",
    "\n",
    "with open(file_path_two, 'r', encoding='utf8') as f:\n",
    "    for line in f:\n",
    "        values  = line.split()\n",
    "        word    = values [0]\n",
    "        coefficents = np.asarray(values[1:], dtype='float32')\n",
    "        embeddings_index[word] = coefficents\n",
    "\n",
    "embeddings_matrix = np.zeros((vocab_size +1 , embedding_dim))\n",
    "for word, i in word_index.items():\n",
    "    embedding_vector = embeddings_index.get(word)\n",
    "    if embedding_vector is not None:\n",
    "        embeddings_matrix[i] = embedding_vector\n",
    "\n",
    "print(len(embeddings_matrix))"
   ],
   "metadata": {
    "collapsed": false,
    "pycharm": {
     "name": "#%%\n"
    }
   }
  },
  {
   "cell_type": "code",
   "execution_count": 21,
   "outputs": [
    {
     "name": "stdout",
     "output_type": "stream",
     "text": [
      "Model: \"sequential_1\"\n",
      "_________________________________________________________________\n",
      "Layer (type)                 Output Shape              Param #   \n",
      "=================================================================\n",
      "embedding_1 (Embedding)      (None, 16, 100)           13891000  \n",
      "_________________________________________________________________\n",
      "dropout_1 (Dropout)          (None, 16, 100)           0         \n",
      "_________________________________________________________________\n",
      "conv1d_1 (Conv1D)            (None, 12, 64)            32064     \n",
      "_________________________________________________________________\n",
      "max_pooling1d_1 (MaxPooling1 (None, 3, 64)             0         \n",
      "_________________________________________________________________\n",
      "lstm_1 (LSTM)                (None, 64)                33024     \n",
      "_________________________________________________________________\n",
      "dense_1 (Dense)              (None, 1)                 65        \n",
      "=================================================================\n",
      "Total params: 13,956,153\n",
      "Trainable params: 65,153\n",
      "Non-trainable params: 13,891,000\n",
      "_________________________________________________________________\n"
     ]
    }
   ],
   "source": [
    "model = tf.keras.Sequential([\n",
    "    tf.keras.layers.Embedding(vocab_size+1, embedding_dim, input_length=max_length, weights=[embeddings_matrix], trainable=False),\n",
    "    tf.keras.layers.Dropout(0.2),\n",
    "    tf.keras.layers.Conv1D(64, 5, activation='relu'),\n",
    "    tf.keras.layers.MaxPooling1D(pool_size=4),\n",
    "    tf.keras.layers.LSTM(64),\n",
    "    tf.keras.layers.Dense(1, activation='sigmoid')\n",
    "])\n",
    "model.compile(loss='binary_crossentropy',optimizer='adam',metrics=['accuracy'])\n",
    "model.summary()\n"
   ],
   "metadata": {
    "collapsed": false,
    "pycharm": {
     "name": "#%%\n"
    }
   }
  },
  {
   "cell_type": "code",
   "execution_count": 23,
   "outputs": [
    {
     "name": "stdout",
     "output_type": "stream",
     "text": [
      "Epoch 1/50\n",
      "4500/4500 - 23s - loss: 0.5644 - accuracy: 0.7025 - val_loss: 0.5415 - val_accuracy: 0.7180\n",
      "Epoch 2/50\n",
      "4500/4500 - 22s - loss: 0.5248 - accuracy: 0.7342 - val_loss: 0.5110 - val_accuracy: 0.7441\n",
      "Epoch 3/50\n",
      "4500/4500 - 20s - loss: 0.5080 - accuracy: 0.7469 - val_loss: 0.5085 - val_accuracy: 0.7504\n",
      "Epoch 4/50\n",
      "4500/4500 - 20s - loss: 0.4973 - accuracy: 0.7552 - val_loss: 0.5043 - val_accuracy: 0.7491\n",
      "Epoch 5/50\n",
      "4500/4500 - 20s - loss: 0.4887 - accuracy: 0.7598 - val_loss: 0.5079 - val_accuracy: 0.7496\n",
      "Epoch 6/50\n",
      "4500/4500 - 20s - loss: 0.4818 - accuracy: 0.7642 - val_loss: 0.5081 - val_accuracy: 0.7493\n",
      "Epoch 7/50\n",
      "4500/4500 - 20s - loss: 0.4767 - accuracy: 0.7674 - val_loss: 0.5016 - val_accuracy: 0.7533\n",
      "Epoch 8/50\n",
      "4500/4500 - 20s - loss: 0.4706 - accuracy: 0.7712 - val_loss: 0.5046 - val_accuracy: 0.7531\n",
      "Epoch 9/50\n",
      "4500/4500 - 20s - loss: 0.4661 - accuracy: 0.7734 - val_loss: 0.5048 - val_accuracy: 0.7524\n",
      "Epoch 10/50\n",
      "4500/4500 - 20s - loss: 0.4634 - accuracy: 0.7751 - val_loss: 0.5064 - val_accuracy: 0.7516\n",
      "Epoch 11/50\n",
      "4500/4500 - 20s - loss: 0.4595 - accuracy: 0.7779 - val_loss: 0.5090 - val_accuracy: 0.7542\n",
      "Epoch 12/50\n",
      "4500/4500 - 20s - loss: 0.4565 - accuracy: 0.7796 - val_loss: 0.5085 - val_accuracy: 0.7514\n",
      "Epoch 13/50\n",
      "4500/4500 - 20s - loss: 0.4532 - accuracy: 0.7804 - val_loss: 0.5110 - val_accuracy: 0.7516\n",
      "Epoch 14/50\n",
      "4500/4500 - 20s - loss: 0.4519 - accuracy: 0.7831 - val_loss: 0.5144 - val_accuracy: 0.7490\n",
      "Epoch 15/50\n",
      "4500/4500 - 20s - loss: 0.4489 - accuracy: 0.7837 - val_loss: 0.5124 - val_accuracy: 0.7552\n",
      "Epoch 16/50\n",
      "4500/4500 - 20s - loss: 0.4482 - accuracy: 0.7837 - val_loss: 0.5132 - val_accuracy: 0.7519\n",
      "Epoch 17/50\n",
      "4500/4500 - 20s - loss: 0.4466 - accuracy: 0.7844 - val_loss: 0.5189 - val_accuracy: 0.7482\n",
      "Epoch 18/50\n",
      "4500/4500 - 20s - loss: 0.4445 - accuracy: 0.7871 - val_loss: 0.5134 - val_accuracy: 0.7504\n",
      "Epoch 19/50\n",
      "4500/4500 - 20s - loss: 0.4428 - accuracy: 0.7873 - val_loss: 0.5171 - val_accuracy: 0.7491\n",
      "Epoch 20/50\n",
      "4500/4500 - 20s - loss: 0.4422 - accuracy: 0.7887 - val_loss: 0.5178 - val_accuracy: 0.7518\n",
      "Epoch 21/50\n",
      "4500/4500 - 20s - loss: 0.4411 - accuracy: 0.7901 - val_loss: 0.5186 - val_accuracy: 0.7512\n",
      "Epoch 22/50\n",
      "4500/4500 - 21s - loss: 0.4392 - accuracy: 0.7894 - val_loss: 0.5165 - val_accuracy: 0.7491\n",
      "Epoch 23/50\n",
      "4500/4500 - 20s - loss: 0.4382 - accuracy: 0.7902 - val_loss: 0.5179 - val_accuracy: 0.7506\n",
      "Epoch 24/50\n",
      "4500/4500 - 20s - loss: 0.4386 - accuracy: 0.7901 - val_loss: 0.5189 - val_accuracy: 0.7498\n",
      "Epoch 25/50\n",
      "4500/4500 - 20s - loss: 0.4367 - accuracy: 0.7910 - val_loss: 0.5178 - val_accuracy: 0.7480\n",
      "Epoch 26/50\n",
      "4500/4500 - 20s - loss: 0.4355 - accuracy: 0.7923 - val_loss: 0.5182 - val_accuracy: 0.7477\n",
      "Epoch 27/50\n",
      "4500/4500 - 20s - loss: 0.4353 - accuracy: 0.7920 - val_loss: 0.5210 - val_accuracy: 0.7462\n",
      "Epoch 28/50\n",
      "4500/4500 - 20s - loss: 0.4359 - accuracy: 0.7914 - val_loss: 0.5184 - val_accuracy: 0.7481\n",
      "Epoch 29/50\n",
      "4500/4500 - 20s - loss: 0.4324 - accuracy: 0.7952 - val_loss: 0.5207 - val_accuracy: 0.7471\n",
      "Epoch 30/50\n",
      "4500/4500 - 20s - loss: 0.4328 - accuracy: 0.7944 - val_loss: 0.5252 - val_accuracy: 0.7519\n",
      "Epoch 31/50\n",
      "4500/4500 - 21s - loss: 0.4330 - accuracy: 0.7929 - val_loss: 0.5230 - val_accuracy: 0.7494\n",
      "Epoch 32/50\n",
      "4500/4500 - 20s - loss: 0.4322 - accuracy: 0.7947 - val_loss: 0.5248 - val_accuracy: 0.7474\n",
      "Epoch 33/50\n",
      "4500/4500 - 20s - loss: 0.4329 - accuracy: 0.7937 - val_loss: 0.5293 - val_accuracy: 0.7463\n",
      "Epoch 34/50\n",
      "4500/4500 - 20s - loss: 0.4302 - accuracy: 0.7952 - val_loss: 0.5221 - val_accuracy: 0.7493\n",
      "Epoch 35/50\n",
      "4500/4500 - 20s - loss: 0.4302 - accuracy: 0.7952 - val_loss: 0.5227 - val_accuracy: 0.7458\n",
      "Epoch 36/50\n",
      "4500/4500 - 20s - loss: 0.4290 - accuracy: 0.7962 - val_loss: 0.5201 - val_accuracy: 0.7478\n",
      "Epoch 37/50\n",
      "4500/4500 - 20s - loss: 0.4299 - accuracy: 0.7951 - val_loss: 0.5212 - val_accuracy: 0.7486\n",
      "Epoch 38/50\n",
      "4500/4500 - 20s - loss: 0.4300 - accuracy: 0.7964 - val_loss: 0.5199 - val_accuracy: 0.7437\n",
      "Epoch 39/50\n",
      "4500/4500 - 20s - loss: 0.4289 - accuracy: 0.7963 - val_loss: 0.5193 - val_accuracy: 0.7486\n",
      "Epoch 40/50\n",
      "4500/4500 - 20s - loss: 0.4294 - accuracy: 0.7959 - val_loss: 0.5205 - val_accuracy: 0.7460\n",
      "Epoch 41/50\n",
      "4500/4500 - 20s - loss: 0.4289 - accuracy: 0.7953 - val_loss: 0.5195 - val_accuracy: 0.7486\n",
      "Epoch 42/50\n",
      "4500/4500 - 20s - loss: 0.4299 - accuracy: 0.7956 - val_loss: 0.5244 - val_accuracy: 0.7479\n",
      "Epoch 43/50\n",
      "4500/4500 - 20s - loss: 0.4288 - accuracy: 0.7959 - val_loss: 0.5211 - val_accuracy: 0.7463\n",
      "Epoch 44/50\n",
      "4500/4500 - 20s - loss: 0.4264 - accuracy: 0.7975 - val_loss: 0.5204 - val_accuracy: 0.7460\n",
      "Epoch 45/50\n",
      "4500/4500 - 20s - loss: 0.4270 - accuracy: 0.7974 - val_loss: 0.5261 - val_accuracy: 0.7477\n",
      "Epoch 46/50\n",
      "4500/4500 - 20s - loss: 0.4269 - accuracy: 0.7973 - val_loss: 0.5274 - val_accuracy: 0.7462\n",
      "Epoch 47/50\n",
      "4500/4500 - 20s - loss: 0.4247 - accuracy: 0.7993 - val_loss: 0.5313 - val_accuracy: 0.7429\n",
      "Epoch 48/50\n",
      "4500/4500 - 20s - loss: 0.4275 - accuracy: 0.7976 - val_loss: 0.5223 - val_accuracy: 0.7474\n",
      "Epoch 49/50\n",
      "4500/4500 - 20s - loss: 0.4243 - accuracy: 0.7991 - val_loss: 0.5225 - val_accuracy: 0.7442\n",
      "Epoch 50/50\n",
      "4500/4500 - 20s - loss: 0.4244 - accuracy: 0.7997 - val_loss: 0.5253 - val_accuracy: 0.7483\n"
     ]
    }
   ],
   "source": [
    "num_epochs = 50\n",
    "\n",
    "training_padded = np.array(training_sequence)\n",
    "training_labels = np.array(training_labels)\n",
    "testing_padded = np.array(test_sequence)\n",
    "testing_labels = np.array(test_labels)\n",
    "\n",
    "history = model.fit(training_padded, training_labels, epochs=num_epochs, validation_data=(testing_padded, testing_labels), verbose=2)"
   ],
   "metadata": {
    "collapsed": false,
    "pycharm": {
     "name": "#%%\n"
    }
   }
  },
  {
   "cell_type": "code",
   "execution_count": 24,
   "outputs": [
    {
     "data": {
      "text/plain": "<Figure size 432x288 with 1 Axes>",
      "image/png": "[encoded data removed]"
     },
     "metadata": {
      "needs_background": "light"
     },
     "output_type": "display_data"
    },
    {
     "data": {
      "text/plain": "<Figure size 432x288 with 0 Axes>"
     },
     "metadata": {},
     "output_type": "display_data"
    },
    {
     "data": {
      "text/plain": "<matplotlib.legend.Legend at 0x1e08bcc2f48>"
     },
     "execution_count": 24,
     "metadata": {},
     "output_type": "execute_result"
    },
    {
     "data": {
      "text/plain": "<Figure size 432x288 with 1 Axes>",
      "image/png": "[encoded data removed]"
     },
     "metadata": {
      "needs_background": "light"
     },
     "output_type": "display_data"
    }
   ],
   "source": [
    "import matplotlib.pyplot as plt\n",
    "\n",
    "acc = history.history['accuracy']\n",
    "val_acc = history.history['val_accuracy']\n",
    "loss = history.history['loss']\n",
    "val_loss = history.history['val_loss']\n",
    "epochs = range(len(acc))\n",
    "\n",
    "plt.plot(epochs, acc, 'r', label = 'Training accuracy')\n",
    "plt.plot(epochs, val_acc, 'b', label = 'Validation accuracy')\n",
    "plt.title('training and validating accuracy')\n",
    "plt.legend(loc=0)\n",
    "plt.figure()\n",
    "plt.show()\n",
    "\n",
    "plt.plot(epochs, loss, 'r', label = 'Training loss')\n",
    "plt.plot(epochs, val_loss, 'b', label = 'Validation loss')\n",
    "plt.title('training and validating loss')\n",
    "plt.legend(loc=0)"
   ],
   "metadata": {
    "collapsed": false,
    "pycharm": {
     "name": "#%%\n"
    }
   }
  },
  {
   "cell_type": "code",
   "execution_count": 25,
   "outputs": [
    {
     "name": "stdout",
     "output_type": "stream",
     "text": [
      "(138910, 100)\n"
     ]
    }
   ],
   "source": [
    "layer = model.layers[0]\n",
    "weights = layer.get_weights()[0]\n",
    "print(weights.shape)\n",
    "\n"
   ],
   "metadata": {
    "collapsed": false,
    "pycharm": {
     "name": "#%%\n"
    }
   }
  },
  {
   "cell_type": "code",
   "execution_count": 37,
   "outputs": [
    {
     "name": "stdout",
     "output_type": "stream",
     "text": [
      "[0.9340665]\n"
     ]
    }
   ],
   "source": [
    "sentence = [\"What a film\"]\n",
    "sequences = tokenizer.texts_to_sequences(sentence)\n",
    "padded = pad_sequences(sequences, maxlen=16, padding=pad_type, truncating=trunc_type)\n",
    "classifications = model.predict(padded)\n",
    "print(classifications[0])"
   ],
   "metadata": {
    "collapsed": false,
    "pycharm": {
     "name": "#%%\n"
    }
   }
  }
 ],
 "metadata": {
  "kernelspec": {
   "display_name": "Python 3",
   "language": "python",
   "name": "python3"
  },
  "language_info": {
   "codemirror_mode": {
    "name": "ipython",
    "version": 2
   },
   "file_extension": ".py",
   "mimetype": "text/x-python",
   "name": "python",
   "nbconvert_exporter": "python",
   "pygments_lexer": "ipython2",
   "version": "2.7.6"
  }
 },
 "nbformat": 4,
 "nbformat_minor": 0
}