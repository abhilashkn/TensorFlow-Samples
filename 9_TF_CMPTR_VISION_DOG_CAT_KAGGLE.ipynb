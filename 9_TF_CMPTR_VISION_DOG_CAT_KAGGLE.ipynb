{
 "cells": [
  {
   "cell_type": "code",
   "execution_count": 15,
   "metadata": {
    "collapsed": true
   },
   "outputs": [],
   "source": [
    "import os\n",
    "import zipfile\n",
    "\n",
    "zip_file_path = 'C:/VIN_PYCHARM/ONE/Data/cats_and_dogs_filtered.zip'\n",
    "unzip_path = 'C:/VIN_PYCHARM/ONE/Data/temp'\n",
    "\n",
    "zipref = zipfile.ZipFile(zip_file_path, 'r')\n",
    "zipref.extractall(unzip_path)\n",
    "zipref.close()\n",
    "\n",
    "base_folder = os.path.join(unzip_path, 'cats_and_dogs_filtered')\n",
    "train_folder = os.path.join(base_folder, 'train')\n",
    "validation_folder = os.path.join(base_folder, 'validation')\n",
    "\n",
    "train_folder_cat = os.path.join(train_folder, 'cats')\n",
    "validation_folder_cat = os.path.join(validation_folder, 'cats')\n",
    "train_folder_dog = os.path.join(train_folder,'dogs')\n",
    "validation_folder_dog = os.path.join(validation_folder, 'dogs')"
   ]
  },
  {
   "cell_type": "code",
   "execution_count": 16,
   "outputs": [],
   "source": [
    "import tensorflow as tf\n",
    "from tensorflow import keras\n",
    "\n",
    "THRESHOLD_ACCURACY = 0.9999\n",
    "\n",
    "class myCallback(tf.keras.callbacks.Callback):\n",
    "    def on_epoch_end(self, epoch, logs={}):\n",
    "        if (logs['accuracy']) > THRESHOLD_ACCURACY:\n",
    "            print((\"\\nAchieved desire accuracy, Stops training\"))\n",
    "            self.model.stop_training = true"
   ],
   "metadata": {
    "collapsed": false,
    "pycharm": {
     "name": "#%%\n"
    }
   }
  },
  {
   "cell_type": "code",
   "execution_count": 17,
   "outputs": [],
   "source": [
    "model = tf.keras.Sequential()\n",
    "\n",
    "model.add(tf.keras.layers.Conv2D(32,(3,3), activation='relu', input_shape=(150,150,3)))\n",
    "model.add(tf.keras.layers.MaxPooling2D(2,2))\n",
    "\n",
    "model.add(tf.keras.layers.Conv2D(64,(3,3), activation='relu'))\n",
    "model.add(tf.keras.layers.MaxPooling2D(2,2))\n",
    "\n",
    "model.add(tf.keras.layers.Conv2D(128,(3,3), activation='relu'))\n",
    "model.add(tf.keras.layers.MaxPooling2D(2,2))\n",
    "\n",
    "model.add(tf.keras.layers.Flatten())\n",
    "model.add(tf.keras.layers.Dense(512, activation='relu'))\n",
    "model.add(tf.keras.layers.Dense(1, activation='sigmoid'))\n"
   ],
   "metadata": {
    "collapsed": false,
    "pycharm": {
     "name": "#%%\n"
    }
   }
  },
  {
   "cell_type": "code",
   "execution_count": 18,
   "outputs": [],
   "source": [
    "from tensorflow.keras.optimizers import RMSprop\n",
    "\n",
    "\n",
    "model.compile(optimizer=RMSprop(lr=0.001), loss = 'binary_crossentropy', metrics=['accuracy'])"
   ],
   "metadata": {
    "collapsed": false,
    "pycharm": {
     "name": "#%%\n"
    }
   }
  },
  {
   "cell_type": "code",
   "execution_count": 19,
   "outputs": [
    {
     "name": "stdout",
     "output_type": "stream",
     "text": [
      "Found 2000 images belonging to 2 classes.\n",
      "Found 1000 images belonging to 2 classes.\n",
      "Epoch 1/15\n",
      "100/100 - 64s - loss: 0.9939 - accuracy: 0.5335 - val_loss: 0.6653 - val_accuracy: 0.5920\n",
      "Epoch 2/15\n",
      "100/100 - 64s - loss: 0.6766 - accuracy: 0.6105 - val_loss: 0.6293 - val_accuracy: 0.6460\n",
      "Epoch 3/15\n",
      "100/100 - 64s - loss: 0.6073 - accuracy: 0.6980 - val_loss: 0.5919 - val_accuracy: 0.6820\n",
      "Epoch 4/15\n",
      "100/100 - 64s - loss: 0.5143 - accuracy: 0.7515 - val_loss: 0.5766 - val_accuracy: 0.7090\n",
      "Epoch 5/15\n",
      "100/100 - 65s - loss: 0.4437 - accuracy: 0.7920 - val_loss: 0.7028 - val_accuracy: 0.6800\n",
      "Epoch 6/15\n",
      "100/100 - 65s - loss: 0.3672 - accuracy: 0.8325 - val_loss: 0.6143 - val_accuracy: 0.7180\n",
      "Epoch 7/15\n",
      "100/100 - 65s - loss: 0.2799 - accuracy: 0.8755 - val_loss: 0.8678 - val_accuracy: 0.7000\n",
      "Epoch 8/15\n",
      "100/100 - 65s - loss: 0.2151 - accuracy: 0.9110 - val_loss: 0.9209 - val_accuracy: 0.7260\n",
      "Epoch 9/15\n",
      "100/100 - 65s - loss: 0.1508 - accuracy: 0.9405 - val_loss: 1.1049 - val_accuracy: 0.6930\n",
      "Epoch 10/15\n",
      "100/100 - 65s - loss: 0.1239 - accuracy: 0.9520 - val_loss: 1.3518 - val_accuracy: 0.7210\n",
      "Epoch 11/15\n",
      "100/100 - 65s - loss: 0.0886 - accuracy: 0.9715 - val_loss: 1.4395 - val_accuracy: 0.6790\n",
      "Epoch 12/15\n",
      "100/100 - 65s - loss: 0.0634 - accuracy: 0.9780 - val_loss: 1.9319 - val_accuracy: 0.7280\n",
      "Epoch 13/15\n",
      "100/100 - 65s - loss: 0.0519 - accuracy: 0.9865 - val_loss: 3.9888 - val_accuracy: 0.6090\n",
      "Epoch 14/15\n",
      "100/100 - 65s - loss: 0.0567 - accuracy: 0.9840 - val_loss: 2.0853 - val_accuracy: 0.6940\n",
      "Epoch 15/15\n",
      "100/100 - 65s - loss: 0.0553 - accuracy: 0.9865 - val_loss: 2.1100 - val_accuracy: 0.7210\n"
     ]
    }
   ],
   "source": [
    "from tensorflow.keras.preprocessing.image import ImageDataGenerator\n",
    "\n",
    "train_datagenerator = ImageDataGenerator(rescale=1.0/255)\n",
    "validation_datagenerator = ImageDataGenerator(rescale=1.0/255)\n",
    "\n",
    "train_generator = train_datagenerator.flow_from_directory(train_folder,\n",
    "                                                          target_size=(150,150),\n",
    "                                                          class_mode='binary',\n",
    "                                                          batch_size=10)\n",
    "\n",
    "validation_generator = validation_datagenerator.flow_from_directory(validation_folder,\n",
    "                                                                    target_size=(150,150),\n",
    "                                                                    class_mode='binary',\n",
    "                                                                    batch_size=10)\n",
    "callbacks = myCallback()\n",
    "\n",
    "history = model.fit(train_generator,\n",
    "                    validation_data= validation_generator,\n",
    "                    steps_per_epoch = 100,\n",
    "                    epochs=15,\n",
    "                    validation_steps=50,\n",
    "                    verbose=2,\n",
    "                    callbacks = [callbacks])"
   ],
   "metadata": {
    "collapsed": false,
    "pycharm": {
     "name": "#%%\n"
    }
   }
  },
  {
   "cell_type": "code",
   "execution_count": 21,
   "outputs": [
    {
     "data": {
      "text/plain": "Text(0.5, 1.0, 'training and validating loss')"
     },
     "execution_count": 21,
     "metadata": {},
     "output_type": "execute_result"
    },
    {
     "data": {
      "text/plain": "<Figure size 432x288 with 1 Axes>",
      "image/png": "[encoded data removed]"
     },
     "metadata": {
      "needs_background": "light"
     },
     "output_type": "display_data"
    },
    {
     "data": {
      "text/plain": "<Figure size 432x288 with 1 Axes>",
      "image/png": "[encoded data removed]"
     },
     "metadata": {
      "needs_background": "light"
     },
     "output_type": "display_data"
    }
   ],
   "source": [
    "import matplotlib.pyplot as plt\n",
    "acc = history.history['accuracy']\n",
    "val_acc = history.history['val_accuracy']\n",
    "loss = history.history['loss']\n",
    "val_loss = history.history['val_loss']\n",
    "epochs = range(len(acc))\n",
    "\n",
    "plt.plot(epochs, acc)\n",
    "plt.plot(epochs, val_acc)\n",
    "plt.title('training and validating accuracy')\n",
    "plt.figure()\n",
    "\n",
    "plt.plot(epochs, loss)\n",
    "plt.plot(epochs, val_loss)\n",
    "plt.title('training and validating loss')"
   ],
   "metadata": {
    "collapsed": false,
    "pycharm": {
     "name": "#%%\n"
    }
   }
  }
 ],
 "metadata": {
  "kernelspec": {
   "display_name": "Python 3",
   "language": "python",
   "name": "python3"
  },
  "language_info": {
   "codemirror_mode": {
    "name": "ipython",
    "version": 2
   },
   "file_extension": ".py",
   "mimetype": "text/x-python",
   "name": "python",
   "nbconvert_exporter": "python",
   "pygments_lexer": "ipython2",
   "version": "2.7.6"
  }
 },
 "nbformat": 4,
 "nbformat_minor": 0
}